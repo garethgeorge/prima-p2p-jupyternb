{
 "cells": [
  {
   "cell_type": "code",
   "execution_count": 54,
   "metadata": {},
   "outputs": [
    {
     "name": "stdout",
     "output_type": "stream",
     "text": [
      "fatal: destination path 'pulse2percept' already exists and is not an empty directory.\r\n"
     ]
    }
   ],
   "source": [
    "! git clone https://github.com/garethgeorge/pulse2percept.git"
   ]
  },
  {
   "cell_type": "code",
   "execution_count": 55,
   "metadata": {},
   "outputs": [
    {
     "name": "stdout",
     "output_type": "stream",
     "text": [
      "WARNING: pip is being invoked by an old script wrapper. This will fail in a future version of pip.\n",
      "Please see https://github.com/pypa/pip/issues/5599 for advice on fixing the underlying issue.\n",
      "To avoid this problem you can invoke Python with '-m pip' instead of running pip directly.\n",
      "Found existing installation: pulse2percept 0.6.0.dev0\n",
      "Uninstalling pulse2percept-0.6.0.dev0:\n",
      "  Successfully uninstalled pulse2percept-0.6.0.dev0\n",
      "WARNING: pip is being invoked by an old script wrapper. This will fail in a future version of pip.\n",
      "Please see https://github.com/pypa/pip/issues/5599 for advice on fixing the underlying issue.\n",
      "To avoid this problem you can invoke Python with '-m pip' instead of running pip directly.\n",
      "Requirement already satisfied: cython>=0.28 in /opt/conda/lib/python3.7/site-packages (from -r requirements.txt (line 1)) (0.29.15)\n",
      "Requirement already satisfied: numpy>=1.9 in /opt/conda/lib/python3.7/site-packages (from -r requirements.txt (line 2)) (1.18.1)\n",
      "Requirement already satisfied: scipy>=1.0 in /opt/conda/lib/python3.7/site-packages (from -r requirements.txt (line 3)) (1.4.1)\n",
      "Requirement already satisfied: matplotlib>=2.1 in /opt/conda/lib/python3.7/site-packages (from -r requirements.txt (line 4)) (3.1.3)\n",
      "Requirement already satisfied: joblib>=0.11 in /opt/conda/lib/python3.7/site-packages (from -r requirements.txt (line 5)) (0.14.1)\n",
      "Requirement already satisfied: kiwisolver>=1.0.1 in /opt/conda/lib/python3.7/site-packages (from matplotlib>=2.1->-r requirements.txt (line 4)) (1.1.0)\n",
      "Requirement already satisfied: pyparsing!=2.0.4,!=2.1.2,!=2.1.6,>=2.0.1 in /opt/conda/lib/python3.7/site-packages (from matplotlib>=2.1->-r requirements.txt (line 4)) (2.4.6)\n",
      "Requirement already satisfied: python-dateutil>=2.1 in /opt/conda/lib/python3.7/site-packages (from matplotlib>=2.1->-r requirements.txt (line 4)) (2.8.1)\n",
      "Requirement already satisfied: cycler>=0.10 in /opt/conda/lib/python3.7/site-packages (from matplotlib>=2.1->-r requirements.txt (line 4)) (0.10.0)\n",
      "Requirement already satisfied: setuptools in /opt/conda/lib/python3.7/site-packages (from kiwisolver>=1.0.1->matplotlib>=2.1->-r requirements.txt (line 4)) (45.1.0.post20200119)\n",
      "Requirement already satisfied: six>=1.5 in /opt/conda/lib/python3.7/site-packages (from python-dateutil>=2.1->matplotlib>=2.1->-r requirements.txt (line 4)) (1.14.0)\n",
      "WARNING: pip is being invoked by an old script wrapper. This will fail in a future version of pip.\n",
      "Please see https://github.com/pypa/pip/issues/5599 for advice on fixing the underlying issue.\n",
      "To avoid this problem you can invoke Python with '-m pip' instead of running pip directly.\n",
      "Requirement already satisfied: dask in /opt/conda/lib/python3.7/site-packages (from -r requirements-dev.txt (line 1)) (2.11.0)\n",
      "Requirement already satisfied: numba in /opt/conda/lib/python3.7/site-packages (from -r requirements-dev.txt (line 2)) (0.48.0)\n",
      "Requirement already satisfied: scikit_image in /opt/conda/lib/python3.7/site-packages (from -r requirements-dev.txt (line 3)) (0.16.2)\n",
      "Requirement already satisfied: sk_video in /opt/conda/lib/python3.7/site-packages (from -r requirements-dev.txt (line 4)) (1.1.10)\n",
      "Requirement already satisfied: pytest>=5 in /opt/conda/lib/python3.7/site-packages (from -r requirements-dev.txt (line 5)) (5.3.5)\n",
      "Requirement already satisfied: pytest-cov in /opt/conda/lib/python3.7/site-packages (from -r requirements-dev.txt (line 6)) (2.8.1)\n",
      "Requirement already satisfied: coveralls in /opt/conda/lib/python3.7/site-packages (from -r requirements-dev.txt (line 7)) (1.11.1)\n",
      "Requirement already satisfied: flake8 in /opt/conda/lib/python3.7/site-packages (from -r requirements-dev.txt (line 8)) (3.7.9)\n",
      "Requirement already satisfied: mock in /opt/conda/lib/python3.7/site-packages (from -r requirements-dev.txt (line 9)) (4.0.1)\n",
      "Requirement already satisfied: sphinx==1.8.5 in /opt/conda/lib/python3.7/site-packages (from -r doc/requirements.txt (line 1)) (1.8.5)\n",
      "Requirement already satisfied: sphinx_gallery>=0.4 in /opt/conda/lib/python3.7/site-packages (from -r doc/requirements.txt (line 2)) (0.5.0)\n",
      "Requirement already satisfied: sphinx_rtd_theme in /opt/conda/lib/python3.7/site-packages (from -r doc/requirements.txt (line 3)) (0.4.3)\n",
      "Requirement already satisfied: ipython in /opt/conda/lib/python3.7/site-packages (from -r doc/requirements.txt (line 4)) (7.11.1)\n",
      "Requirement already satisfied: sphinx_version_warning in /opt/conda/lib/python3.7/site-packages (from -r doc/requirements.txt (line 5)) (1.1.2)\n",
      "Requirement already satisfied: setuptools in /opt/conda/lib/python3.7/site-packages (from numba->-r requirements-dev.txt (line 2)) (45.1.0.post20200119)\n",
      "Requirement already satisfied: numpy>=1.15 in /opt/conda/lib/python3.7/site-packages (from numba->-r requirements-dev.txt (line 2)) (1.18.1)\n",
      "Requirement already satisfied: llvmlite<0.32.0,>=0.31.0dev0 in /opt/conda/lib/python3.7/site-packages (from numba->-r requirements-dev.txt (line 2)) (0.31.0)\n",
      "Requirement already satisfied: pillow>=4.3.0 in /opt/conda/lib/python3.7/site-packages (from scikit_image->-r requirements-dev.txt (line 3)) (7.0.0)\n",
      "Requirement already satisfied: imageio>=2.3.0 in /opt/conda/lib/python3.7/site-packages (from scikit_image->-r requirements-dev.txt (line 3)) (2.8.0)\n",
      "Requirement already satisfied: PyWavelets>=0.4.0 in /opt/conda/lib/python3.7/site-packages (from scikit_image->-r requirements-dev.txt (line 3)) (1.1.1)\n",
      "Requirement already satisfied: scipy>=0.19.0 in /opt/conda/lib/python3.7/site-packages (from scikit_image->-r requirements-dev.txt (line 3)) (1.4.1)\n",
      "Requirement already satisfied: networkx>=2.0 in /opt/conda/lib/python3.7/site-packages (from scikit_image->-r requirements-dev.txt (line 3)) (2.4)\n",
      "Requirement already satisfied: matplotlib!=3.0.0,>=2.0.0 in /opt/conda/lib/python3.7/site-packages (from scikit_image->-r requirements-dev.txt (line 3)) (3.1.3)\n",
      "Requirement already satisfied: py>=1.5.0 in /opt/conda/lib/python3.7/site-packages (from pytest>=5->-r requirements-dev.txt (line 5)) (1.8.1)\n",
      "Requirement already satisfied: wcwidth in /opt/conda/lib/python3.7/site-packages (from pytest>=5->-r requirements-dev.txt (line 5)) (0.1.8)\n",
      "Requirement already satisfied: more-itertools>=4.0.0 in /opt/conda/lib/python3.7/site-packages (from pytest>=5->-r requirements-dev.txt (line 5)) (8.2.0)\n",
      "Requirement already satisfied: attrs>=17.4.0 in /opt/conda/lib/python3.7/site-packages (from pytest>=5->-r requirements-dev.txt (line 5)) (19.3.0)\n",
      "Requirement already satisfied: pluggy<1.0,>=0.12 in /opt/conda/lib/python3.7/site-packages (from pytest>=5->-r requirements-dev.txt (line 5)) (0.13.1)\n",
      "Requirement already satisfied: importlib-metadata>=0.12; python_version < \"3.8\" in /opt/conda/lib/python3.7/site-packages (from pytest>=5->-r requirements-dev.txt (line 5)) (1.5.0)\n",
      "Requirement already satisfied: packaging in /opt/conda/lib/python3.7/site-packages (from pytest>=5->-r requirements-dev.txt (line 5)) (20.1)\n",
      "Requirement already satisfied: coverage>=4.4 in /opt/conda/lib/python3.7/site-packages (from pytest-cov->-r requirements-dev.txt (line 6)) (5.0.3)\n",
      "Requirement already satisfied: docopt>=0.6.1 in /opt/conda/lib/python3.7/site-packages (from coveralls->-r requirements-dev.txt (line 7)) (0.6.2)\n",
      "Requirement already satisfied: requests>=1.0.0 in /opt/conda/lib/python3.7/site-packages (from coveralls->-r requirements-dev.txt (line 7)) (2.22.0)\n",
      "Requirement already satisfied: pycodestyle<2.6.0,>=2.5.0 in /opt/conda/lib/python3.7/site-packages (from flake8->-r requirements-dev.txt (line 8)) (2.5.0)\n",
      "Requirement already satisfied: mccabe<0.7.0,>=0.6.0 in /opt/conda/lib/python3.7/site-packages (from flake8->-r requirements-dev.txt (line 8)) (0.6.1)\n",
      "Requirement already satisfied: pyflakes<2.2.0,>=2.1.0 in /opt/conda/lib/python3.7/site-packages (from flake8->-r requirements-dev.txt (line 8)) (2.1.1)\n",
      "Requirement already satisfied: entrypoints<0.4.0,>=0.3.0 in /opt/conda/lib/python3.7/site-packages (from flake8->-r requirements-dev.txt (line 8)) (0.3)\n",
      "Requirement already satisfied: docutils>=0.11 in /opt/conda/lib/python3.7/site-packages (from sphinx==1.8.5->-r doc/requirements.txt (line 1)) (0.16)\n",
      "Requirement already satisfied: snowballstemmer>=1.1 in /opt/conda/lib/python3.7/site-packages (from sphinx==1.8.5->-r doc/requirements.txt (line 1)) (2.0.0)\n",
      "Requirement already satisfied: babel!=2.0,>=1.3 in /opt/conda/lib/python3.7/site-packages (from sphinx==1.8.5->-r doc/requirements.txt (line 1)) (2.8.0)\n",
      "Requirement already satisfied: Pygments>=2.0 in /opt/conda/lib/python3.7/site-packages (from sphinx==1.8.5->-r doc/requirements.txt (line 1)) (2.5.2)\n",
      "Requirement already satisfied: Jinja2>=2.3 in /opt/conda/lib/python3.7/site-packages (from sphinx==1.8.5->-r doc/requirements.txt (line 1)) (2.11.0)\n",
      "Requirement already satisfied: alabaster<0.8,>=0.7 in /opt/conda/lib/python3.7/site-packages (from sphinx==1.8.5->-r doc/requirements.txt (line 1)) (0.7.12)\n",
      "Requirement already satisfied: six>=1.5 in /opt/conda/lib/python3.7/site-packages (from sphinx==1.8.5->-r doc/requirements.txt (line 1)) (1.14.0)\n",
      "Requirement already satisfied: sphinxcontrib-websupport in /opt/conda/lib/python3.7/site-packages (from sphinx==1.8.5->-r doc/requirements.txt (line 1)) (1.2.0)\n",
      "Requirement already satisfied: imagesize in /opt/conda/lib/python3.7/site-packages (from sphinx==1.8.5->-r doc/requirements.txt (line 1)) (1.2.0)\n",
      "Requirement already satisfied: jedi>=0.10 in /opt/conda/lib/python3.7/site-packages (from ipython->-r doc/requirements.txt (line 4)) (0.16.0)\n"
     ]
    },
    {
     "name": "stdout",
     "output_type": "stream",
     "text": [
      "Requirement already satisfied: prompt-toolkit!=3.0.0,!=3.0.1,<3.1.0,>=2.0.0 in /opt/conda/lib/python3.7/site-packages (from ipython->-r doc/requirements.txt (line 4)) (3.0.3)\n",
      "Requirement already satisfied: pickleshare in /opt/conda/lib/python3.7/site-packages (from ipython->-r doc/requirements.txt (line 4)) (0.7.5)\n",
      "Requirement already satisfied: decorator in /opt/conda/lib/python3.7/site-packages (from ipython->-r doc/requirements.txt (line 4)) (4.4.1)\n",
      "Requirement already satisfied: pexpect; sys_platform != \"win32\" in /opt/conda/lib/python3.7/site-packages (from ipython->-r doc/requirements.txt (line 4)) (4.8.0)\n",
      "Requirement already satisfied: traitlets>=4.2 in /opt/conda/lib/python3.7/site-packages (from ipython->-r doc/requirements.txt (line 4)) (4.3.3)\n",
      "Requirement already satisfied: backcall in /opt/conda/lib/python3.7/site-packages (from ipython->-r doc/requirements.txt (line 4)) (0.1.0)\n",
      "Requirement already satisfied: kiwisolver>=1.0.1 in /opt/conda/lib/python3.7/site-packages (from matplotlib!=3.0.0,>=2.0.0->scikit_image->-r requirements-dev.txt (line 3)) (1.1.0)\n",
      "Requirement already satisfied: pyparsing!=2.0.4,!=2.1.2,!=2.1.6,>=2.0.1 in /opt/conda/lib/python3.7/site-packages (from matplotlib!=3.0.0,>=2.0.0->scikit_image->-r requirements-dev.txt (line 3)) (2.4.6)\n",
      "Requirement already satisfied: python-dateutil>=2.1 in /opt/conda/lib/python3.7/site-packages (from matplotlib!=3.0.0,>=2.0.0->scikit_image->-r requirements-dev.txt (line 3)) (2.8.1)\n",
      "Requirement already satisfied: cycler>=0.10 in /opt/conda/lib/python3.7/site-packages (from matplotlib!=3.0.0,>=2.0.0->scikit_image->-r requirements-dev.txt (line 3)) (0.10.0)\n",
      "Requirement already satisfied: zipp>=0.5 in /opt/conda/lib/python3.7/site-packages (from importlib-metadata>=0.12; python_version < \"3.8\"->pytest>=5->-r requirements-dev.txt (line 5)) (2.1.0)\n",
      "Requirement already satisfied: urllib3!=1.25.0,!=1.25.1,<1.26,>=1.21.1 in /opt/conda/lib/python3.7/site-packages (from requests>=1.0.0->coveralls->-r requirements-dev.txt (line 7)) (1.25.7)\n",
      "Requirement already satisfied: idna<2.9,>=2.5 in /opt/conda/lib/python3.7/site-packages (from requests>=1.0.0->coveralls->-r requirements-dev.txt (line 7)) (2.8)\n",
      "Requirement already satisfied: chardet<3.1.0,>=3.0.2 in /opt/conda/lib/python3.7/site-packages (from requests>=1.0.0->coveralls->-r requirements-dev.txt (line 7)) (3.0.4)\n",
      "Requirement already satisfied: certifi>=2017.4.17 in /opt/conda/lib/python3.7/site-packages (from requests>=1.0.0->coveralls->-r requirements-dev.txt (line 7)) (2019.11.28)\n",
      "Requirement already satisfied: pytz>=2015.7 in /opt/conda/lib/python3.7/site-packages (from babel!=2.0,>=1.3->sphinx==1.8.5->-r doc/requirements.txt (line 1)) (2019.3)\n",
      "Requirement already satisfied: MarkupSafe>=0.23 in /opt/conda/lib/python3.7/site-packages (from Jinja2>=2.3->sphinx==1.8.5->-r doc/requirements.txt (line 1)) (1.1.1)\n",
      "Requirement already satisfied: parso>=0.5.2 in /opt/conda/lib/python3.7/site-packages (from jedi>=0.10->ipython->-r doc/requirements.txt (line 4)) (0.6.0)\n",
      "Requirement already satisfied: ptyprocess>=0.5 in /opt/conda/lib/python3.7/site-packages (from pexpect; sys_platform != \"win32\"->ipython->-r doc/requirements.txt (line 4)) (0.6.0)\n",
      "Requirement already satisfied: ipython-genutils in /opt/conda/lib/python3.7/site-packages (from traitlets>=4.2->ipython->-r doc/requirements.txt (line 4)) (0.2.0)\n",
      "WARNING: pip is being invoked by an old script wrapper. This will fail in a future version of pip.\n",
      "Please see https://github.com/pypa/pip/issues/5599 for advice on fixing the underlying issue.\n",
      "To avoid this problem you can invoke Python with '-m pip' instead of running pip directly.\n",
      "Obtaining file:///home/jovyan/work/pulse2percept\n",
      "Requirement already satisfied: numpy>=1.9.0 in /opt/conda/lib/python3.7/site-packages (from pulse2percept==0.6.0.dev0) (1.18.1)\n",
      "Requirement already satisfied: scipy>=1.0 in /opt/conda/lib/python3.7/site-packages (from pulse2percept==0.6.0.dev0) (1.4.1)\n",
      "Requirement already satisfied: joblib>=0.11 in /opt/conda/lib/python3.7/site-packages (from pulse2percept==0.6.0.dev0) (0.14.1)\n",
      "Installing collected packages: pulse2percept\n",
      "  Running setup.py develop for pulse2percept\n",
      "Successfully installed pulse2percept\n"
     ]
    }
   ],
   "source": [
    "! pip uninstall pulse2percept -y\n",
    "! cd pulse2percept && pip install -r requirements.txt && pip install -r requirements-dev.txt && pip install -e ."
   ]
  },
  {
   "cell_type": "code",
   "execution_count": 56,
   "metadata": {},
   "outputs": [
    {
     "ename": "ModuleNotFoundError",
     "evalue": "No module named 'pulse2percept.viz'",
     "output_type": "error",
     "traceback": [
      "\u001b[0;31m---------------------------------------------------------------------------\u001b[0m",
      "\u001b[0;31mModuleNotFoundError\u001b[0m                       Traceback (most recent call last)",
      "\u001b[0;32m<ipython-input-56-eeaf05d6e896>\u001b[0m in \u001b[0;36m<module>\u001b[0;34m\u001b[0m\n\u001b[1;32m      5\u001b[0m \u001b[0;32mimport\u001b[0m \u001b[0mnumpy\u001b[0m \u001b[0;32mas\u001b[0m \u001b[0mnp\u001b[0m\u001b[0;34m\u001b[0m\u001b[0;34m\u001b[0m\u001b[0m\n\u001b[1;32m      6\u001b[0m \u001b[0;32mimport\u001b[0m \u001b[0mmath\u001b[0m\u001b[0;34m\u001b[0m\u001b[0;34m\u001b[0m\u001b[0m\n\u001b[0;32m----> 7\u001b[0;31m \u001b[0;32mfrom\u001b[0m \u001b[0mpulse2percept\u001b[0m\u001b[0;34m.\u001b[0m\u001b[0mviz\u001b[0m \u001b[0;32mimport\u001b[0m \u001b[0mplot_implant_on_axon_map\u001b[0m\u001b[0;34m\u001b[0m\u001b[0;34m\u001b[0m\u001b[0m\n\u001b[0m\u001b[1;32m      8\u001b[0m \u001b[0;32mfrom\u001b[0m \u001b[0mpulse2percept\u001b[0m\u001b[0;34m.\u001b[0m\u001b[0mimplants\u001b[0m \u001b[0;32mimport\u001b[0m \u001b[0mArgusII\u001b[0m\u001b[0;34m,\u001b[0m \u001b[0mAlphaAMS\u001b[0m\u001b[0;34m\u001b[0m\u001b[0;34m\u001b[0m\u001b[0m\n\u001b[1;32m      9\u001b[0m \u001b[0;32mfrom\u001b[0m \u001b[0mpulse2percept\u001b[0m\u001b[0;34m.\u001b[0m\u001b[0mmodels\u001b[0m \u001b[0;32mimport\u001b[0m \u001b[0mAxonMapModel\u001b[0m\u001b[0;34m\u001b[0m\u001b[0;34m\u001b[0m\u001b[0m\n",
      "\u001b[0;31mModuleNotFoundError\u001b[0m: No module named 'pulse2percept.viz'"
     ]
    }
   ],
   "source": [
    "import pulse2percept as p2p\n",
    "%matplotlib inline \n",
    "import matplotlib.pyplot as plt \n",
    "import matplotlib.pyplot as plt\n",
    "import numpy as np\n",
    "import math\n",
    "from pulse2percept.viz import plot_implant_on_axon_map\n",
    "from pulse2percept.implants import ArgusII, AlphaAMS\n",
    "from pulse2percept.models import AxonMapModel\n",
    "from prima import Prima"
   ]
  },
  {
   "cell_type": "code",
   "execution_count": 9,
   "metadata": {},
   "outputs": [
    {
     "data": {
      "text/plain": [
       "AxonMapModel(ax_segments_range=(3, 50), axlambda=200, \n",
       "             axon_pickle='axons.pickle', \n",
       "             axons_range=(-180, 180), engine='serial', \n",
       "             eye='RE', grid_type='rectangular', \n",
       "             ignore_pickle=False, loc_od_x=15.5, \n",
       "             loc_od_y=1.5, n_ax_segments=500, n_axons=500, \n",
       "             n_jobs=-1, rho=100, scheduler='threading', \n",
       "             thresh_percept=0, verbose=True, \n",
       "             xrange=(-20, 20), xystep=0.25, \n",
       "             yrange=(-15, 15))"
      ]
     },
     "execution_count": 9,
     "metadata": {},
     "output_type": "execute_result"
    }
   ],
   "source": [
    "model = AxonMapModel(rho=100, axlambda=200)\n",
    "model.engine = 'serial'\n",
    "model.build()"
   ]
  },
  {
   "cell_type": "code",
   "execution_count": 53,
   "metadata": {},
   "outputs": [
    {
     "ename": "NameError",
     "evalue": "name 'Prima' is not defined",
     "output_type": "error",
     "traceback": [
      "\u001b[0;31m---------------------------------------------------------------------------\u001b[0m",
      "\u001b[0;31mNameError\u001b[0m                                 Traceback (most recent call last)",
      "\u001b[0;32m<ipython-input-53-042eb0f756e5>\u001b[0m in \u001b[0;36m<module>\u001b[0;34m\u001b[0m\n\u001b[1;32m      7\u001b[0m \u001b[0;34m\u001b[0m\u001b[0m\n\u001b[1;32m      8\u001b[0m \u001b[0mimg_argusII\u001b[0m\u001b[0;34m,\u001b[0m \u001b[0mimg_prima\u001b[0m\u001b[0;34m,\u001b[0m \u001b[0mimg_alpha\u001b[0m \u001b[0;34m=\u001b[0m \u001b[0mresize_image\u001b[0m\u001b[0;34m(\u001b[0m\u001b[0mimg_in\u001b[0m\u001b[0;34m)\u001b[0m\u001b[0;34m\u001b[0m\u001b[0;34m\u001b[0m\u001b[0m\n\u001b[0;32m----> 9\u001b[0;31m \u001b[0mcompare_percepts\u001b[0m\u001b[0;34m(\u001b[0m\u001b[0mimg_argusII\u001b[0m\u001b[0;34m,\u001b[0m \u001b[0mimg_prima\u001b[0m\u001b[0;34m,\u001b[0m \u001b[0mimg_alpha\u001b[0m\u001b[0;34m)\u001b[0m\u001b[0;34m\u001b[0m\u001b[0;34m\u001b[0m\u001b[0m\n\u001b[0m\u001b[1;32m     10\u001b[0m \u001b[0;34m\u001b[0m\u001b[0m\n\u001b[1;32m     11\u001b[0m \u001b[0mimg_argusII\u001b[0m \u001b[0;34m=\u001b[0m \u001b[0mgenerateHorizontalGrating\u001b[0m\u001b[0;34m(\u001b[0m\u001b[0;36m6\u001b[0m\u001b[0;34m,\u001b[0m\u001b[0;36m10\u001b[0m\u001b[0;34m)\u001b[0m\u001b[0;34m\u001b[0m\u001b[0;34m\u001b[0m\u001b[0m\n",
      "\u001b[0;32m<ipython-input-52-7b762ec97241>\u001b[0m in \u001b[0;36mcompare_percepts\u001b[0;34m(img_argusII, img_prima, img_alpha)\u001b[0m\n\u001b[1;32m     15\u001b[0m     \u001b[0mplt\u001b[0m\u001b[0;34m.\u001b[0m\u001b[0mtitle\u001b[0m\u001b[0;34m(\u001b[0m\u001b[0;34m\"Model Input Alpha\"\u001b[0m\u001b[0;34m)\u001b[0m\u001b[0;34m\u001b[0m\u001b[0;34m\u001b[0m\u001b[0m\n\u001b[1;32m     16\u001b[0m \u001b[0;34m\u001b[0m\u001b[0m\n\u001b[0;32m---> 17\u001b[0;31m     \u001b[0mimplant\u001b[0m \u001b[0;34m=\u001b[0m \u001b[0mPrima\u001b[0m\u001b[0;34m(\u001b[0m\u001b[0;34m)\u001b[0m\u001b[0;34m\u001b[0m\u001b[0;34m\u001b[0m\u001b[0m\n\u001b[0m\u001b[1;32m     18\u001b[0m     \u001b[0mimplant\u001b[0m\u001b[0;34m.\u001b[0m\u001b[0mstim\u001b[0m \u001b[0;34m=\u001b[0m \u001b[0mnp\u001b[0m\u001b[0;34m.\u001b[0m\u001b[0marray\u001b[0m\u001b[0;34m(\u001b[0m\u001b[0mimg_prima\u001b[0m\u001b[0;34m)\u001b[0m\u001b[0;34m.\u001b[0m\u001b[0mflatten\u001b[0m\u001b[0;34m(\u001b[0m\u001b[0;34m)\u001b[0m\u001b[0;34m\u001b[0m\u001b[0;34m\u001b[0m\u001b[0m\n\u001b[1;32m     19\u001b[0m     \u001b[0mpercept\u001b[0m \u001b[0;34m=\u001b[0m \u001b[0mmodel\u001b[0m\u001b[0;34m.\u001b[0m\u001b[0mpredict_percept\u001b[0m\u001b[0;34m(\u001b[0m\u001b[0mimplant\u001b[0m\u001b[0;34m)\u001b[0m\u001b[0;34m\u001b[0m\u001b[0;34m\u001b[0m\u001b[0m\n",
      "\u001b[0;31mNameError\u001b[0m: name 'Prima' is not defined"
     ]
    },
    {
     "data": {
      "image/png": "[encoded data removed]",
      "text/plain": [
       "<Figure size 432x288 with 6 Axes>"
      ]
     },
     "metadata": {
      "needs_background": "light"
     },
     "output_type": "display_data"
    }
   ],
   "source": [
    "import skimage.io as sio\n",
    "import skimage.transform as sit\n",
    "invert = True\n",
    "datafile = 'letters/A.jpg'\n",
    "img_in = sio.imread(datafile, as_gray=True)\n",
    "img_in = img_in[50:150, 40:200]\n",
    "\n",
    "img_argusII, img_prima, img_alpha = resize_image(img_in)\n",
    "compare_percepts(img_argusII, img_prima, img_alpha)\n",
    "\n",
    "img_argusII = generateHorizontalGrating(6,10)\n",
    "img_prima = generateHorizontalGrating(20,20)\n",
    "img_alpha = generateHorizontalGrating(40,40)\n",
    "\n",
    "compare_percepts(img_argusII, img_prima, img_alpha)\n",
    "\n",
    "img_argusII = generateVerticalGrating(6,10)\n",
    "img_prima = generateVerticalGrating(20,20)\n",
    "img_alpha = generateVerticalGrating(40,40)\n",
    "\n",
    "compare_percepts(img_argusII, img_prima, img_alpha)"
   ]
  },
  {
   "cell_type": "code",
   "execution_count": 25,
   "metadata": {},
   "outputs": [],
   "source": [
    "def resize_image(img_in, invert = True):\n",
    "    img_stim_prima = sit.resize(img_in, (20, 20))\n",
    "    img_stim_argusII = sit.resize(img_in, (6, 10))\n",
    "    img_alpha = sit.resize(img_in, (40, 40))\n",
    "    if invert:\n",
    "        img_stim_prima = 1.0 - img_stim_prima\n",
    "        img_stim_argusII = 1.0 - img_stim_argusII\n",
    "        img_alpha = 1.0 - img_alpha\n",
    "    \n",
    "    return img_stim_argusII, img_stim_prima, img_alpha\n",
    "    "
   ]
  },
  {
   "cell_type": "code",
   "execution_count": 52,
   "metadata": {},
   "outputs": [],
   "source": [
    "def compare_percepts(img_argusII, img_prima, img_alpha): \n",
    "    fig, axes = plt.subplots(2, 3)\n",
    "    fig.figsize = (15,20)\n",
    "    \n",
    "    plt.sca(axes[0,0])\n",
    "    plt.imshow(img_prima, cmap='gray')\n",
    "    plt.title(\"Model Input Prima\")\n",
    "    \n",
    "    plt.sca(axes[0,1])\n",
    "    plt.imshow(img_argusII, cmap='gray')\n",
    "    plt.title(\"Model Input Argus II\")\n",
    "    \n",
    "    plt.sca(axes[0,2])\n",
    "    plt.imshow(img_alpha, cmap='gray')\n",
    "    plt.title(\"Model Input Alpha\")\n",
    "    \n",
    "    implant = Prima()\n",
    "    implant.stim = np.array(img_prima).flatten()\n",
    "    percept = model.predict_percept(implant)\n",
    "    \n",
    "    plt.sca(axes[1,0])\n",
    "    plt.imshow(percept, cmap='gray')\n",
    "    plt.xticks(np.linspace(0, percept.shape[1], num=5),\n",
    "           np.linspace(*model.xrange, num=5))\n",
    "    plt.xlabel('x (dva)')\n",
    "    plt.yticks(np.linspace(0, percept.shape[0], num=5),\n",
    "           np.linspace(*model.yrange, num=5))\n",
    "    plt.ylabel('y (dva)')\n",
    "    plt.title('Predicted Percept Prima')\n",
    "    \n",
    "    implant = ArgusII()\n",
    "    implant.stim = np.array(img_argusII).flatten()\n",
    "    percept = model.predict_percept(implant)\n",
    "    \n",
    "    plt.sca(axes[1,1])\n",
    "    plt.imshow(percept, cmap='gray')\n",
    "    plt.xticks(np.linspace(0, percept.shape[1], num=5),\n",
    "           np.linspace(*model.xrange, num=5))\n",
    "    plt.xlabel('x (dva)')\n",
    "    plt.yticks(np.linspace(0, percept.shape[0], num=5),\n",
    "           np.linspace(*model.yrange, num=5))\n",
    "    plt.ylabel('y (dva)')\n",
    "    plt.title('Predicted Percept ArgusII')\n",
    "    \n",
    "    implant = AlphaAMS()\n",
    "    implant.stim = np.array(img_alpha).flatten()\n",
    "    percept = model.predict_percept(implant)\n",
    "    \n",
    "    plt.sca(axes[1,2])\n",
    "    plt.imshow(percept, cmap='gray')\n",
    "    plt.xticks(np.linspace(0, percept.shape[1], num=5),\n",
    "           np.linspace(*model.xrange, num=5))\n",
    "    plt.xlabel('x (dva)')\n",
    "    plt.yticks(np.linspace(0, percept.shape[0], num=5),\n",
    "           np.linspace(*model.yrange, num=5))\n",
    "    plt.ylabel('y (dva)')\n",
    "    plt.title('Predicted Percept Alpha')\n",
    "    \n",
    "    fig.tight_layout()"
   ]
  },
  {
   "cell_type": "code",
   "execution_count": 49,
   "metadata": {},
   "outputs": [],
   "source": [
    "def generateVerticalGrating(height, width):\n",
    "    line_width = math.floor(width / 8)\n",
    "    image = np.zeros((height, width))\n",
    "    \n",
    "    solid = True\n",
    "    count = 0\n",
    "    for i in range(0,width,1): \n",
    "        count += 1\n",
    "        if(solid): \n",
    "            image[:, i] = 1\n",
    "        if(count == line_width): \n",
    "            count = 0 \n",
    "            solid = not solid\n",
    "    return image"
   ]
  },
  {
   "cell_type": "code",
   "execution_count": 50,
   "metadata": {},
   "outputs": [],
   "source": [
    "def generateHorizontalGrating(height, width):\n",
    "    line_width = max(1, math.floor(height / 8))\n",
    "    image = np.zeros((height, width))\n",
    "    \n",
    "    solid = True\n",
    "    count = 0\n",
    "    for i in range(0,height,1): \n",
    "        count += 1\n",
    "        if(solid): \n",
    "            image[i, :] = 1\n",
    "        if(count == line_width): \n",
    "            count = 0 \n",
    "            solid = not solid\n",
    "    return image"
   ]
  }
 ],
 "metadata": {
  "kernelspec": {
   "display_name": "Python 3",
   "language": "python",
   "name": "python3"
  },
  "language_info": {
   "codemirror_mode": {
    "name": "ipython",
    "version": 3
   },
   "file_extension": ".py",
   "mimetype": "text/x-python",
   "name": "python",
   "nbconvert_exporter": "python",
   "pygments_lexer": "ipython3",
   "version": "3.7.4"
  }
 },
 "nbformat": 4,
 "nbformat_minor": 4
}
