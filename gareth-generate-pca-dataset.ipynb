{
 "cells": [
  {
   "cell_type": "code",
   "execution_count": null,
   "metadata": {},
   "outputs": [],
   "source": [
    "! pip uninstall pulse2percept -y\n",
    "! cd pulse2percept && pip install -r requirements.txt && pip install -r requirements-dev.txt && pip install -e .\n",
    "! pip install tqdm "
   ]
  },
  {
   "cell_type": "code",
   "execution_count": 7,
   "metadata": {},
   "outputs": [
    {
     "name": "stdout",
     "output_type": "stream",
     "text": [
      "Requirement already satisfied: Pillow in /opt/conda/lib/python3.7/site-packages (7.0.0)\n",
      "Requirement already satisfied: Pandas in /opt/conda/lib/python3.7/site-packages (1.0.1)\n",
      "Requirement already satisfied: pytz>=2017.2 in /opt/conda/lib/python3.7/site-packages (from Pandas) (2019.3)\n",
      "Requirement already satisfied: numpy>=1.13.3 in /opt/conda/lib/python3.7/site-packages (from Pandas) (1.18.1)\n",
      "Requirement already satisfied: python-dateutil>=2.6.1 in /opt/conda/lib/python3.7/site-packages (from Pandas) (2.8.1)\n",
      "Requirement already satisfied: six>=1.5 in /opt/conda/lib/python3.7/site-packages (from python-dateutil>=2.6.1->Pandas) (1.13.0)\n",
      "Requirement already satisfied: sklearn in /opt/conda/lib/python3.7/site-packages (0.0)\n",
      "Requirement already satisfied: scikit-learn in /opt/conda/lib/python3.7/site-packages (from sklearn) (0.22.2)\n",
      "Requirement already satisfied: scipy>=0.17.0 in /opt/conda/lib/python3.7/site-packages (from scikit-learn->sklearn) (1.4.1)\n",
      "Requirement already satisfied: joblib>=0.11 in /opt/conda/lib/python3.7/site-packages (from scikit-learn->sklearn) (0.14.1)\n",
      "Requirement already satisfied: numpy>=1.11.0 in /opt/conda/lib/python3.7/site-packages (from scikit-learn->sklearn) (1.18.1)\n"
     ]
    }
   ],
   "source": [
    "! pip install Pillow\n",
    "! pip install Pandas\n",
    "! pip install sklearn"
   ]
  },
  {
   "cell_type": "markdown",
   "metadata": {},
   "source": [
    "# Generating Datasets using python multiprocessing"
   ]
  },
  {
   "cell_type": "code",
   "execution_count": 1,
   "metadata": {},
   "outputs": [],
   "source": [
    "import pulse2percept as p2p\n",
    "from prima import * \n",
    "%matplotlib inline \n",
    "import matplotlib.pyplot as plt "
   ]
  },
  {
   "cell_type": "code",
   "execution_count": 2,
   "metadata": {},
   "outputs": [],
   "source": [
    "\"\"\"\n",
    "    utilities for generating percepts for a given model/implant with one stimulus point at each pixel\n",
    "    of magnitude 10\n",
    "\"\"\"\n",
    "from tqdm import tqdm \n",
    "from multiprocessing import Pool\n",
    "\n",
    "BASE_CURRENT_CONSTANT = 10\n",
    "\n",
    "def generate_dataset_helper(argpack):\n",
    "    model, implant, stim_dim, idx = argpack\n",
    "    stim = np.zeros(stim_dim)\n",
    "    stim[idx] = BASE_CURRENT_CONSTANT\n",
    "    implant.stim = stim\n",
    "    percept = model.predict_percept(implant)\n",
    "    return percept\n",
    "\n",
    "def generate_dataset_fast(model, implant, stim_dim, j=8):\n",
    "    with Pool(j) as p:\n",
    "        generator = p.imap(generate_dataset_helper, [(model, implant, stim_dim, idx) for idx in range(0, stim_dim)])\n",
    "        return list(tqdm(generator, total=stim_dim))\n",
    "\n",
    "\n",
    "def plot_percept(ax, model, percept, title='Predicted percept'):\n",
    "    ax.imshow(percept, cmap='gray')\n",
    "    ax.set_xticks(np.linspace(0, percept.shape[1], num=5))\n",
    "    ax.set_xticklabels(np.linspace(*model.xrange, num=5))\n",
    "    ax.set_xlabel('x (dva)')\n",
    "    ax.set_yticks(np.linspace(0, percept.shape[0], num=5))\n",
    "    ax.set_yticklabels(np.linspace(*model.yrange, num=5))\n",
    "    ax.set_ylabel('y (dva)')\n",
    "    ax.set_title(title)\n",
    "    "
   ]
  },
  {
   "cell_type": "code",
   "execution_count": 14,
   "metadata": {},
   "outputs": [],
   "source": [
    "# utility for running PCA on some data \n",
    "from sklearn import decomposition\n",
    "from sklearn import datasets\n",
    "import numpy as np\n",
    "import pandas as pd \n",
    "from sklearn.preprocessing import *\n",
    "\n",
    "def run_pca(dataset, percentage=0.95):\n",
    "    percepts = normalize(np.array([obj.flatten() for obj in dataset]))\n",
    "    percepts_pca = decomposition.PCA(percentage)\n",
    "    percepts_pca.fit(percepts)\n",
    "    components = percepts_pca.transform(percepts)\n",
    "    projected = percepts_pca.inverse_transform(components)\n",
    "    return components, projected"
   ]
  },
  {
   "cell_type": "code",
   "execution_count": null,
   "metadata": {},
   "outputs": [],
   "source": [
    "# example, generate percepts for ArgusII using AxonMapModel\n",
    "\n",
    "# model = p2p.models.AxonMapModel(rho=100, axlambda=200)\n",
    "# model.engine = 'serial'\n",
    "# model.build()\n",
    "# implant = p2p.implants.ArgusII()\n",
    "# output_percepts = generate_dataset_fast(model, implant, 60)\n",
    "\n",
    "# import pickle\n",
    "# if output_percepts and len(output_percepts) > 0:\n",
    "#     with open(\"./data/ArgusII_percepts.pickle\", \"wb\") as f:\n",
    "#         pickle.dump(output_percepts, f)\n",
    "\n",
    "# print(\"Done generating percepts\")"
   ]
  },
  {
   "cell_type": "code",
   "execution_count": null,
   "metadata": {
    "scrolled": true
   },
   "outputs": [],
   "source": [
    "# example, generate percepts for Prima using ScoreboardModel\n",
    "\n",
    "# from prima import * \n",
    "# model = p2p.models.ScoreboardModel(rho=100)\n",
    "# model.engine = 'serial'\n",
    "# model.build()\n",
    "# implant = Prima()\n",
    "# output_percepts = generate_dataset_fast(model, implant, 400, j=12)\n",
    "# if output_percepts:\n",
    "#     with open(\"./data/Prima20x20_ScoreboardModel_percepts.pickle\", \"wb\") as f:\n",
    "#         pickle.dump(output_percepts, f)"
   ]
  },
  {
   "cell_type": "markdown",
   "metadata": {},
   "source": [
    "## Dataset for Scoreboard w/Prima and Argus w/different values of rho"
   ]
  },
  {
   "cell_type": "code",
   "execution_count": 4,
   "metadata": {},
   "outputs": [],
   "source": [
    "rhos = [25, 50, 75, 100, 125, 150, 200, 300]"
   ]
  },
  {
   "cell_type": "code",
   "execution_count": null,
   "metadata": {
    "scrolled": false
   },
   "outputs": [],
   "source": [
    "fig, axs = plt.subplots(len(rhos), 2, constrained_layout=False, figsize=(10, 4 * len(rhos)))\n",
    "\n",
    "#\n",
    "# PLOT THE ARGUS AND PRIMA IMPLANTS FOR VARIOUS VALUES OF RHO USING SCOREBOARD MODEL \n",
    "# SO THAT WE CAN VISUALIZE WHAT CHANGING VALUES FOR RHO DOES\n",
    "#\n",
    "for rho, (ax_argus, ax_prima) in zip(rhos, axs):\n",
    "    model = p2p.models.ScoreboardModel(rho=rho)\n",
    "    model.engine = 'serial'\n",
    "    model.build()\n",
    "    \n",
    "    # simulate ArgusII\n",
    "    print(\"rho: %d argus scoreboard\" % rho)\n",
    "    implant = p2p.implants.ArgusII()\n",
    "    implant.stim = BASE_CURRENT_CONSTANT * np.ones(60)\n",
    "    \n",
    "    percept = model.predict_percept(implant)\n",
    "    plot_percept(ax_argus, model, percept, \"Argus w/rho: %d\" % rho)\n",
    "    \n",
    "    # simulate ArgusII\n",
    "    print(\"rho: %d prima scoreboard\" % rho)\n",
    "    implant = Prima()\n",
    "    implant.stim = BASE_CURRENT_CONSTANT * np.ones(400)\n",
    "    \n",
    "    percept = model.predict_percept(implant)\n",
    "    plot_percept(ax_prima, model, percept, \"Prima w/rho: %d\" % rho)\n",
    "\n",
    "fig.tight_layout()"
   ]
  },
  {
   "cell_type": "code",
   "execution_count": null,
   "metadata": {},
   "outputs": [
    {
     "name": "stdout",
     "output_type": "stream",
     "text": [
      "generating percept sets for values of rho: [25, 50, 75, 100, 125, 150, 200, 300]\n",
      "rho: 25 argus scoreboard\n",
      "rho: 25 alphaims scoreboard\n"
     ]
    },
    {
     "name": "stderr",
     "output_type": "stream",
     "text": [
      "\n",
      "  0%|          | 0/1369 [00:00<?, ?it/s]\u001b[A\n",
      "  0%|          | 1/1369 [01:49<41:45:50, 109.91s/it]\u001b[A\n",
      "  0%|          | 3/1369 [01:50<29:12:47, 76.99s/it] \u001b[A\n",
      "  1%|          | 10/1369 [01:50<20:20:48, 53.90s/it]\u001b[A\n",
      "  1%|          | 10/1369 [02:00<20:20:48, 53.90s/it]\u001b[A\n",
      "  1%|          | 13/1369 [03:58<19:01:46, 50.52s/it]\u001b[A\n",
      "  1%|          | 14/1369 [03:59<13:25:55, 35.69s/it]\u001b[A\n",
      "  1%|          | 16/1369 [04:00<9:26:26, 25.12s/it] \u001b[A\n",
      "  1%|          | 17/1369 [04:01<6:46:03, 18.02s/it]\u001b[A\n",
      "  2%|▏         | 24/1369 [04:02<4:43:33, 12.65s/it]\u001b[A\n",
      "  2%|▏         | 25/1369 [06:05<17:03:40, 45.70s/it]\u001b[A\n",
      "  2%|▏         | 26/1369 [06:06<12:06:13, 32.44s/it]\u001b[A\n",
      "  2%|▏         | 28/1369 [06:07<8:28:25, 22.75s/it] \u001b[A\n",
      "  2%|▏         | 29/1369 [06:07<5:58:27, 16.05s/it]\u001b[A\n",
      "  2%|▏         | 30/1369 [06:08<4:19:40, 11.64s/it]\u001b[A\n",
      "  2%|▏         | 32/1369 [06:09<3:04:43,  8.29s/it]\u001b[A\n",
      "  2%|▏         | 34/1369 [06:10<2:11:10,  5.90s/it]\u001b[A\n",
      "  3%|▎         | 35/1369 [06:10<1:33:12,  4.19s/it]\u001b[A\n",
      "  3%|▎         | 36/1369 [06:11<1:09:41,  3.14s/it]\u001b[A"
     ]
    }
   ],
   "source": [
    "import gzip\n",
    "import pickle \n",
    "import os \n",
    "#\n",
    "# GENERATE DATASET OF PERCEPTS FROM THE ABOVE PLOTTING\n",
    "# !! WARNING !! THIS WILL TAKE A VERY LONG TIME ON MOST CPUs\n",
    "#\n",
    "basedir = \"./data/changing_rho_experiments/\"\n",
    "try:\n",
    "    os.makedirs(basedir)\n",
    "except: pass \n",
    "\n",
    "print(\"generating percept sets for values of rho: \" + str(rhos))\n",
    "for rho in rhos:\n",
    "    model = p2p.models.ScoreboardModel(rho=rho)\n",
    "    model.engine = 'serial'\n",
    "    model.build()\n",
    "    \n",
    "    # simulate ArgusII\n",
    "    print(\"rho: %d argus scoreboard\" % rho)\n",
    "    if not os.path.exists(os.path.join(basedir, \"argus_scoreboard_rho%d.pickle.gz\" % rho)):\n",
    "        implant = p2p.implants.ArgusII()\n",
    "        percepts = generate_dataset_fast(model, implant, 60, j=12)\n",
    "        with gzip.open(os.path.join(basedir, \"argus_scoreboard_rho%d.pickle.gz\" % rho), \"wb\") as f:\n",
    "            pickle.dump(percepts, f)\n",
    "            \n",
    "    # simulate AlphaIMS\n",
    "    print(\"rho: %d alphaims scoreboard\" % rho)\n",
    "    if not os.path.exists(os.path.join(basedir, \"alphaims_scoreboard_rho%d.pickle.gz\" % rho)):\n",
    "        implant = p2p.implants.AlphaIMS()\n",
    "        percepts = generate_dataset_fast(model, implant, 37 ** 2, j=12)\n",
    "        with gzip.open(os.path.join(basedir, \"alphaims_scoreboard_rho%d.pickle.gz\" % rho), \"wb\") as f:\n",
    "            pickle.dump(percepts, f)\n",
    "    \n",
    "    # simulate ArgusII\n",
    "    print(\"rho: %d prima scoreboard\" % rho)\n",
    "    if not os.path.exists(os.path.join(basedir, \"prima_scoreboard_rho%d.pickle.gz\" % rho)):\n",
    "        implant = Prima()\n",
    "        percepts = generate_dataset_fast(model, implant, 400, j=12)\n",
    "        with gzip.open(os.path.join(basedir, \"prima_scoreboard_rho%d.pickle.gz\" % rho), \"wb\") as f:\n",
    "            pickle.dump(percepts, f)\n"
   ]
  },
  {
   "cell_type": "code",
   "execution_count": 26,
   "metadata": {},
   "outputs": [
    {
     "name": "stdout",
     "output_type": "stream",
     "text": [
      "loaded argus percepts for rho 25, size: (60, 124, 164)\n",
      "loaded prima percepts for rho 25, size: (400, 124, 164)\n",
      "\targus pca shape: (60, 57)\n",
      "\tprima pca shape: (400, 378)\n",
      "loaded argus percepts for rho 50, size: (60, 124, 164)\n",
      "loaded prima percepts for rho 50, size: (400, 124, 164)\n",
      "\targus pca shape: (60, 57)\n",
      "\tprima pca shape: (400, 332)\n",
      "loaded argus percepts for rho 75, size: (60, 124, 164)\n",
      "loaded prima percepts for rho 75, size: (400, 124, 164)\n",
      "\targus pca shape: (60, 57)\n",
      "\tprima pca shape: (400, 175)\n",
      "loaded argus percepts for rho 100, size: (60, 124, 164)\n",
      "loaded prima percepts for rho 100, size: (400, 124, 164)\n",
      "\targus pca shape: (60, 57)\n",
      "\tprima pca shape: (400, 103)\n",
      "loaded argus percepts for rho 125, size: (60, 124, 164)\n",
      "loaded prima percepts for rho 125, size: (400, 124, 164)\n",
      "\targus pca shape: (60, 57)\n",
      "\tprima pca shape: (400, 68)\n",
      "loaded argus percepts for rho 150, size: (60, 124, 164)\n",
      "loaded prima percepts for rho 150, size: (400, 124, 164)\n",
      "\targus pca shape: (60, 56)\n",
      "\tprima pca shape: (400, 49)\n",
      "loaded argus percepts for rho 200, size: (60, 124, 164)\n",
      "loaded prima percepts for rho 200, size: (400, 124, 164)\n",
      "\targus pca shape: (60, 54)\n",
      "\tprima pca shape: (400, 30)\n",
      "loaded argus percepts for rho 300, size: (60, 124, 164)\n",
      "loaded prima percepts for rho 300, size: (400, 124, 164)\n",
      "\targus pca shape: (60, 44)\n",
      "\tprima pca shape: (400, 15)\n"
     ]
    }
   ],
   "source": [
    "import pickle\n",
    "import os \n",
    "import gzip \n",
    "# \n",
    "# GENERATE PLOT OF THE PCA DATA\n",
    "#\n",
    "percent = 0.95\n",
    "\n",
    "argus_pca_shapes = []\n",
    "prima_pca_shapes = []\n",
    "for rho in rhos:\n",
    "    argus_percepts_path = os.path.join(basedir, \"argus_scoreboard_rho%d.pickle.gz\" % rho)\n",
    "    prima_percepts_path = os.path.join(basedir, \"prima_scoreboard_rho%d.pickle.gz\" % rho)\n",
    "    with gzip.open(argus_percepts_path, \"rb\") as f:\n",
    "        argus_percepts = pickle.load(f)\n",
    "    print(\"loaded argus percepts for rho %d, size: %s\" % (rho, str(np.array(argus_percepts).shape)))\n",
    "    with gzip.open(prima_percepts_path, \"rb\") as f:\n",
    "        prima_percepts = pickle.load(f)\n",
    "    print(\"loaded prima percepts for rho %d, size: %s\" % (rho, str(np.array(prima_percepts).shape)))\n",
    "    \n",
    "    argus_pca_components, _ = run_pca(argus_percepts, percent)\n",
    "    argus_pca_shapes.append(argus_pca_components.shape)\n",
    "    print(\"\\targus pca shape: \" + str(argus_pca_components.shape))\n",
    "    prima_pca_components, _ = run_pca(prima_percepts, percent)\n",
    "    prima_pca_shapes.append(prima_pca_components.shape)\n",
    "    print(\"\\tprima pca shape: \" + str(prima_pca_components.shape))"
   ]
  },
  {
   "cell_type": "code",
   "execution_count": 32,
   "metadata": {},
   "outputs": [
    {
     "name": "stdout",
     "output_type": "stream",
     "text": [
      "[378, 332, 175, 103, 68, 49, 30, 15]\n",
      "[57, 57, 57, 57, 57, 56, 54, 44]\n"
     ]
    },
    {
     "data": {
      "text/plain": [
       "<matplotlib.legend.Legend at 0x7f42f8561fd0>"
      ]
     },
     "execution_count": 32,
     "metadata": {},
     "output_type": "execute_result"
    },
    {
     "data": {
      "image/png": "[encoded data removed]",
      "text/plain": [
       "<Figure size 432x288 with 1 Axes>"
      ]
     },
     "metadata": {
      "needs_background": "light"
     },
     "output_type": "display_data"
    }
   ],
   "source": [
    "print([v[1] for v in prima_pca_shapes])\n",
    "print([v[1] for v in argus_pca_shapes])\n",
    "plt.plot(rhos, [v[1] for v in argus_pca_shapes], 'r', rhos, [v[1] for v in prima_pca_shapes])\n",
    "plt.ylabel(\"PCA components to explain 95% of data\")\n",
    "plt.xlabel(\"rho (current spread)\")\n",
    "plt.title(\"Prima vs. Argus PCA Components With Changing Rho\")\n",
    "plt.legend((\"Argus II\", \"Prima\"))"
   ]
  },
  {
   "cell_type": "code",
   "execution_count": null,
   "metadata": {},
   "outputs": [],
   "source": [
    "import pickle\n",
    "import os \n",
    "import gzip \n",
    "# \n",
    "# GENERATE PLOT OF THE PCA DATA W/AXONMAP\n",
    "#\n",
    "percent = 0.95\n",
    "\n",
    "argus_pca_shapes = []\n",
    "prima_pca_shapes = []\n",
    "for rho in rhos:\n",
    "    argus_percepts_path = os.path.join(basedir, \"argus_scoreboard_rho%d.pickle.gz\" % rho)\n",
    "    prima_percepts_path = os.path.join(basedir, \"prima_scoreboard_rho%d.pickle.gz\" % rho)\n",
    "    with gzip.open(argus_percepts_path, \"rb\") as f:\n",
    "        argus_percepts = pickle.load(f)\n",
    "    print(\"loaded argus percepts for rho %d, size: %s\" % (rho, str(np.array(argus_percepts).shape)))\n",
    "    with gzip.open(prima_percepts_path, \"rb\") as f:\n",
    "        prima_percepts = pickle.load(f)\n",
    "    print(\"loaded prima percepts for rho %d, size: %s\" % (rho, str(np.array(prima_percepts).shape)))\n",
    "    \n",
    "    argus_pca_components, _ = run_pca(argus_percepts, percent)\n",
    "    argus_pca_shapes.append(argus_pca_components.shape)\n",
    "    print(\"\\targus pca shape: \" + str(argus_pca_components.shape))\n",
    "    prima_pca_components, _ = run_pca(prima_percepts, percent)\n",
    "    prima_pca_shapes.append(prima_pca_components.shape)\n",
    "    print(\"\\tprima pca shape: \" + str(prima_pca_components.shape))"
   ]
  }
 ],
 "metadata": {
  "kernelspec": {
   "display_name": "Python 3",
   "language": "python",
   "name": "python3"
  },
  "language_info": {
   "codemirror_mode": {
    "name": "ipython",
    "version": 3
   },
   "file_extension": ".py",
   "mimetype": "text/x-python",
   "name": "python",
   "nbconvert_exporter": "python",
   "pygments_lexer": "ipython3",
   "version": "3.7.3"
  }
 },
 "nbformat": 4,
 "nbformat_minor": 2
}
