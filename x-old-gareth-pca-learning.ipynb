{
 "cells": [
  {
   "cell_type": "code",
   "execution_count": 1,
   "metadata": {},
   "outputs": [
    {
     "name": "stdout",
     "output_type": "stream",
     "text": [
      "Requirement already satisfied: Pillow in /opt/conda/lib/python3.7/site-packages (7.0.0)\n",
      "Requirement already satisfied: Pandas in /opt/conda/lib/python3.7/site-packages (1.0.1)\n",
      "Requirement already satisfied: python-dateutil>=2.6.1 in /opt/conda/lib/python3.7/site-packages (from Pandas) (2.8.1)\n",
      "Requirement already satisfied: numpy>=1.13.3 in /opt/conda/lib/python3.7/site-packages (from Pandas) (1.18.1)\n",
      "Requirement already satisfied: pytz>=2017.2 in /opt/conda/lib/python3.7/site-packages (from Pandas) (2019.3)\n",
      "Requirement already satisfied: six>=1.5 in /opt/conda/lib/python3.7/site-packages (from python-dateutil>=2.6.1->Pandas) (1.13.0)\n",
      "Requirement already satisfied: sklearn in /opt/conda/lib/python3.7/site-packages (0.0)\n",
      "Requirement already satisfied: scikit-learn in /opt/conda/lib/python3.7/site-packages (from sklearn) (0.22.2)\n",
      "Requirement already satisfied: numpy>=1.11.0 in /opt/conda/lib/python3.7/site-packages (from scikit-learn->sklearn) (1.18.1)\n",
      "Requirement already satisfied: joblib>=0.11 in /opt/conda/lib/python3.7/site-packages (from scikit-learn->sklearn) (0.14.1)\n",
      "Requirement already satisfied: scipy>=0.17.0 in /opt/conda/lib/python3.7/site-packages (from scikit-learn->sklearn) (1.4.1)\n"
     ]
    }
   ],
   "source": [
    "!pip install Pillow\n",
    "!pip install Pandas\n",
    "!pip install sklearn"
   ]
  },
  {
   "cell_type": "code",
   "execution_count": 2,
   "metadata": {},
   "outputs": [
    {
     "name": "stdout",
     "output_type": "stream",
     "text": [
      "Uninstalling pulse2percept-0.6.0.dev0:\n",
      "  Successfully uninstalled pulse2percept-0.6.0.dev0\n",
      "Requirement already satisfied: cython>=0.28 in /opt/conda/lib/python3.7/site-packages (from -r requirements.txt (line 1)) (0.29.15)\n",
      "Requirement already satisfied: numpy>=1.9 in /opt/conda/lib/python3.7/site-packages (from -r requirements.txt (line 2)) (1.18.1)\n",
      "Requirement already satisfied: scipy>=1.0 in /opt/conda/lib/python3.7/site-packages (from -r requirements.txt (line 3)) (1.4.1)\n",
      "Requirement already satisfied: matplotlib>=2.1 in /opt/conda/lib/python3.7/site-packages (from -r requirements.txt (line 4)) (3.1.3)\n",
      "Requirement already satisfied: joblib>=0.11 in /opt/conda/lib/python3.7/site-packages (from -r requirements.txt (line 5)) (0.14.1)\n",
      "Requirement already satisfied: kiwisolver>=1.0.1 in /opt/conda/lib/python3.7/site-packages (from matplotlib>=2.1->-r requirements.txt (line 4)) (1.1.0)\n",
      "Requirement already satisfied: cycler>=0.10 in /opt/conda/lib/python3.7/site-packages (from matplotlib>=2.1->-r requirements.txt (line 4)) (0.10.0)\n",
      "Requirement already satisfied: pyparsing!=2.0.4,!=2.1.2,!=2.1.6,>=2.0.1 in /opt/conda/lib/python3.7/site-packages (from matplotlib>=2.1->-r requirements.txt (line 4)) (2.4.6)\n",
      "Requirement already satisfied: python-dateutil>=2.1 in /opt/conda/lib/python3.7/site-packages (from matplotlib>=2.1->-r requirements.txt (line 4)) (2.8.1)\n",
      "Requirement already satisfied: setuptools in /opt/conda/lib/python3.7/site-packages (from kiwisolver>=1.0.1->matplotlib>=2.1->-r requirements.txt (line 4)) (42.0.2.post20191201)\n",
      "Requirement already satisfied: six in /opt/conda/lib/python3.7/site-packages (from cycler>=0.10->matplotlib>=2.1->-r requirements.txt (line 4)) (1.13.0)\n",
      "Requirement already satisfied: dask in /opt/conda/lib/python3.7/site-packages (from -r requirements-dev.txt (line 1)) (2.11.0)\n",
      "Requirement already satisfied: numba in /opt/conda/lib/python3.7/site-packages (from -r requirements-dev.txt (line 2)) (0.48.0)\n",
      "Requirement already satisfied: scikit_image in /opt/conda/lib/python3.7/site-packages (from -r requirements-dev.txt (line 3)) (0.16.2)\n",
      "Requirement already satisfied: sk_video in /opt/conda/lib/python3.7/site-packages (from -r requirements-dev.txt (line 4)) (1.1.10)\n",
      "Requirement already satisfied: pytest>=5 in /opt/conda/lib/python3.7/site-packages (from -r requirements-dev.txt (line 5)) (5.3.5)\n",
      "Requirement already satisfied: pytest-cov in /opt/conda/lib/python3.7/site-packages (from -r requirements-dev.txt (line 6)) (2.8.1)\n",
      "Requirement already satisfied: coveralls in /opt/conda/lib/python3.7/site-packages (from -r requirements-dev.txt (line 7)) (1.11.1)\n",
      "Requirement already satisfied: flake8 in /opt/conda/lib/python3.7/site-packages (from -r requirements-dev.txt (line 8)) (3.7.9)\n",
      "Requirement already satisfied: mock in /opt/conda/lib/python3.7/site-packages (from -r requirements-dev.txt (line 9)) (4.0.1)\n",
      "Requirement already satisfied: sphinx==1.8.5 in /opt/conda/lib/python3.7/site-packages (from -r doc/requirements.txt (line 1)) (1.8.5)\n",
      "Requirement already satisfied: sphinx_gallery>=0.4 in /opt/conda/lib/python3.7/site-packages (from -r doc/requirements.txt (line 2)) (0.5.0)\n",
      "Requirement already satisfied: sphinx_rtd_theme in /opt/conda/lib/python3.7/site-packages (from -r doc/requirements.txt (line 3)) (0.4.3)\n",
      "Requirement already satisfied: ipython in /opt/conda/lib/python3.7/site-packages (from -r doc/requirements.txt (line 4)) (7.10.1)\n",
      "Requirement already satisfied: sphinx_version_warning in /opt/conda/lib/python3.7/site-packages (from -r doc/requirements.txt (line 5)) (1.1.2)\n",
      "Requirement already satisfied: llvmlite<0.32.0,>=0.31.0dev0 in /opt/conda/lib/python3.7/site-packages (from numba->-r requirements-dev.txt (line 2)) (0.31.0)\n",
      "Requirement already satisfied: setuptools in /opt/conda/lib/python3.7/site-packages (from numba->-r requirements-dev.txt (line 2)) (42.0.2.post20191201)\n",
      "Requirement already satisfied: numpy>=1.15 in /opt/conda/lib/python3.7/site-packages (from numba->-r requirements-dev.txt (line 2)) (1.18.1)\n",
      "Requirement already satisfied: PyWavelets>=0.4.0 in /opt/conda/lib/python3.7/site-packages (from scikit_image->-r requirements-dev.txt (line 3)) (1.1.1)\n",
      "Requirement already satisfied: matplotlib!=3.0.0,>=2.0.0 in /opt/conda/lib/python3.7/site-packages (from scikit_image->-r requirements-dev.txt (line 3)) (3.1.3)\n",
      "Requirement already satisfied: scipy>=0.19.0 in /opt/conda/lib/python3.7/site-packages (from scikit_image->-r requirements-dev.txt (line 3)) (1.4.1)\n",
      "Requirement already satisfied: pillow>=4.3.0 in /opt/conda/lib/python3.7/site-packages (from scikit_image->-r requirements-dev.txt (line 3)) (7.0.0)\n",
      "Requirement already satisfied: networkx>=2.0 in /opt/conda/lib/python3.7/site-packages (from scikit_image->-r requirements-dev.txt (line 3)) (2.4)\n",
      "Requirement already satisfied: imageio>=2.3.0 in /opt/conda/lib/python3.7/site-packages (from scikit_image->-r requirements-dev.txt (line 3)) (2.8.0)\n",
      "Requirement already satisfied: pluggy<1.0,>=0.12 in /opt/conda/lib/python3.7/site-packages (from pytest>=5->-r requirements-dev.txt (line 5)) (0.13.1)\n",
      "Requirement already satisfied: packaging in /opt/conda/lib/python3.7/site-packages (from pytest>=5->-r requirements-dev.txt (line 5)) (20.1)\n",
      "Requirement already satisfied: wcwidth in /opt/conda/lib/python3.7/site-packages (from pytest>=5->-r requirements-dev.txt (line 5)) (0.1.7)\n",
      "Requirement already satisfied: attrs>=17.4.0 in /opt/conda/lib/python3.7/site-packages (from pytest>=5->-r requirements-dev.txt (line 5)) (19.3.0)\n",
      "Requirement already satisfied: more-itertools>=4.0.0 in /opt/conda/lib/python3.7/site-packages (from pytest>=5->-r requirements-dev.txt (line 5)) (8.0.2)\n",
      "Requirement already satisfied: importlib-metadata>=0.12; python_version < \"3.8\" in /opt/conda/lib/python3.7/site-packages (from pytest>=5->-r requirements-dev.txt (line 5)) (1.2.0)\n",
      "Requirement already satisfied: py>=1.5.0 in /opt/conda/lib/python3.7/site-packages (from pytest>=5->-r requirements-dev.txt (line 5)) (1.8.1)\n",
      "Requirement already satisfied: coverage>=4.4 in /opt/conda/lib/python3.7/site-packages (from pytest-cov->-r requirements-dev.txt (line 6)) (5.0.3)\n",
      "Requirement already satisfied: requests>=1.0.0 in /opt/conda/lib/python3.7/site-packages (from coveralls->-r requirements-dev.txt (line 7)) (2.22.0)\n",
      "Requirement already satisfied: docopt>=0.6.1 in /opt/conda/lib/python3.7/site-packages (from coveralls->-r requirements-dev.txt (line 7)) (0.6.2)\n",
      "Requirement already satisfied: pycodestyle<2.6.0,>=2.5.0 in /opt/conda/lib/python3.7/site-packages (from flake8->-r requirements-dev.txt (line 8)) (2.5.0)\n",
      "Requirement already satisfied: entrypoints<0.4.0,>=0.3.0 in /opt/conda/lib/python3.7/site-packages (from flake8->-r requirements-dev.txt (line 8)) (0.3)\n",
      "Requirement already satisfied: pyflakes<2.2.0,>=2.1.0 in /opt/conda/lib/python3.7/site-packages (from flake8->-r requirements-dev.txt (line 8)) (2.1.1)\n",
      "Requirement already satisfied: mccabe<0.7.0,>=0.6.0 in /opt/conda/lib/python3.7/site-packages (from flake8->-r requirements-dev.txt (line 8)) (0.6.1)\n",
      "Requirement already satisfied: Pygments>=2.0 in /opt/conda/lib/python3.7/site-packages (from sphinx==1.8.5->-r doc/requirements.txt (line 1)) (2.5.2)\n",
      "Requirement already satisfied: alabaster<0.8,>=0.7 in /opt/conda/lib/python3.7/site-packages (from sphinx==1.8.5->-r doc/requirements.txt (line 1)) (0.7.12)\n",
      "Requirement already satisfied: Jinja2>=2.3 in /opt/conda/lib/python3.7/site-packages (from sphinx==1.8.5->-r doc/requirements.txt (line 1)) (2.10.3)\n",
      "Requirement already satisfied: sphinxcontrib-websupport in /opt/conda/lib/python3.7/site-packages (from sphinx==1.8.5->-r doc/requirements.txt (line 1)) (1.2.0)\n",
      "Requirement already satisfied: snowballstemmer>=1.1 in /opt/conda/lib/python3.7/site-packages (from sphinx==1.8.5->-r doc/requirements.txt (line 1)) (2.0.0)\n",
      "Requirement already satisfied: six>=1.5 in /opt/conda/lib/python3.7/site-packages (from sphinx==1.8.5->-r doc/requirements.txt (line 1)) (1.13.0)\n",
      "Requirement already satisfied: imagesize in /opt/conda/lib/python3.7/site-packages (from sphinx==1.8.5->-r doc/requirements.txt (line 1)) (1.2.0)\n",
      "Requirement already satisfied: babel!=2.0,>=1.3 in /opt/conda/lib/python3.7/site-packages (from sphinx==1.8.5->-r doc/requirements.txt (line 1)) (2.8.0)\n",
      "Requirement already satisfied: docutils>=0.11 in /opt/conda/lib/python3.7/site-packages (from sphinx==1.8.5->-r doc/requirements.txt (line 1)) (0.16)\n",
      "Requirement already satisfied: jedi>=0.10 in /opt/conda/lib/python3.7/site-packages (from ipython->-r doc/requirements.txt (line 4)) (0.15.1)\n"
     ]
    },
    {
     "name": "stdout",
     "output_type": "stream",
     "text": [
      "Requirement already satisfied: pickleshare in /opt/conda/lib/python3.7/site-packages (from ipython->-r doc/requirements.txt (line 4)) (0.7.5)\n",
      "Requirement already satisfied: decorator in /opt/conda/lib/python3.7/site-packages (from ipython->-r doc/requirements.txt (line 4)) (4.4.1)\n",
      "Requirement already satisfied: prompt-toolkit!=3.0.0,!=3.0.1,<3.1.0,>=2.0.0 in /opt/conda/lib/python3.7/site-packages (from ipython->-r doc/requirements.txt (line 4)) (3.0.2)\n",
      "Requirement already satisfied: pexpect; sys_platform != \"win32\" in /opt/conda/lib/python3.7/site-packages (from ipython->-r doc/requirements.txt (line 4)) (4.7.0)\n",
      "Requirement already satisfied: traitlets>=4.2 in /opt/conda/lib/python3.7/site-packages (from ipython->-r doc/requirements.txt (line 4)) (4.3.3)\n",
      "Requirement already satisfied: backcall in /opt/conda/lib/python3.7/site-packages (from ipython->-r doc/requirements.txt (line 4)) (0.1.0)\n",
      "Requirement already satisfied: cycler>=0.10 in /opt/conda/lib/python3.7/site-packages (from matplotlib!=3.0.0,>=2.0.0->scikit_image->-r requirements-dev.txt (line 3)) (0.10.0)\n",
      "Requirement already satisfied: pyparsing!=2.0.4,!=2.1.2,!=2.1.6,>=2.0.1 in /opt/conda/lib/python3.7/site-packages (from matplotlib!=3.0.0,>=2.0.0->scikit_image->-r requirements-dev.txt (line 3)) (2.4.6)\n",
      "Requirement already satisfied: python-dateutil>=2.1 in /opt/conda/lib/python3.7/site-packages (from matplotlib!=3.0.0,>=2.0.0->scikit_image->-r requirements-dev.txt (line 3)) (2.8.1)\n",
      "Requirement already satisfied: kiwisolver>=1.0.1 in /opt/conda/lib/python3.7/site-packages (from matplotlib!=3.0.0,>=2.0.0->scikit_image->-r requirements-dev.txt (line 3)) (1.1.0)\n",
      "Requirement already satisfied: zipp>=0.5 in /opt/conda/lib/python3.7/site-packages (from importlib-metadata>=0.12; python_version < \"3.8\"->pytest>=5->-r requirements-dev.txt (line 5)) (0.6.0)\n",
      "Requirement already satisfied: certifi>=2017.4.17 in /opt/conda/lib/python3.7/site-packages (from requests>=1.0.0->coveralls->-r requirements-dev.txt (line 7)) (2019.11.28)\n",
      "Requirement already satisfied: chardet<3.1.0,>=3.0.2 in /opt/conda/lib/python3.7/site-packages (from requests>=1.0.0->coveralls->-r requirements-dev.txt (line 7)) (3.0.4)\n",
      "Requirement already satisfied: idna<2.9,>=2.5 in /opt/conda/lib/python3.7/site-packages (from requests>=1.0.0->coveralls->-r requirements-dev.txt (line 7)) (2.8)\n",
      "Requirement already satisfied: urllib3!=1.25.0,!=1.25.1,<1.26,>=1.21.1 in /opt/conda/lib/python3.7/site-packages (from requests>=1.0.0->coveralls->-r requirements-dev.txt (line 7)) (1.25.7)\n",
      "Requirement already satisfied: MarkupSafe>=0.23 in /opt/conda/lib/python3.7/site-packages (from Jinja2>=2.3->sphinx==1.8.5->-r doc/requirements.txt (line 1)) (1.1.1)\n",
      "Requirement already satisfied: pytz>=2015.7 in /opt/conda/lib/python3.7/site-packages (from babel!=2.0,>=1.3->sphinx==1.8.5->-r doc/requirements.txt (line 1)) (2019.3)\n",
      "Requirement already satisfied: parso>=0.5.0 in /opt/conda/lib/python3.7/site-packages (from jedi>=0.10->ipython->-r doc/requirements.txt (line 4)) (0.5.1)\n",
      "Requirement already satisfied: ptyprocess>=0.5 in /opt/conda/lib/python3.7/site-packages (from pexpect; sys_platform != \"win32\"->ipython->-r doc/requirements.txt (line 4)) (0.6.0)\n",
      "Requirement already satisfied: ipython-genutils in /opt/conda/lib/python3.7/site-packages (from traitlets>=4.2->ipython->-r doc/requirements.txt (line 4)) (0.2.0)\n",
      "Obtaining file:///home/jovyan/work/pulse2percept\n",
      "Requirement already satisfied: numpy>=1.9.0 in /opt/conda/lib/python3.7/site-packages (from pulse2percept==0.6.0.dev0) (1.18.1)\n",
      "Requirement already satisfied: scipy>=1.0 in /opt/conda/lib/python3.7/site-packages (from pulse2percept==0.6.0.dev0) (1.4.1)\n",
      "Requirement already satisfied: joblib>=0.11 in /opt/conda/lib/python3.7/site-packages (from pulse2percept==0.6.0.dev0) (0.14.1)\n",
      "Installing collected packages: pulse2percept\n",
      "  Running setup.py develop for pulse2percept\n",
      "Successfully installed pulse2percept\n"
     ]
    }
   ],
   "source": [
    "! pip uninstall pulse2percept -y\n",
    "! cd pulse2percept && pip install -r requirements.txt && pip install -r requirements-dev.txt && pip install -e ."
   ]
  },
  {
   "cell_type": "code",
   "execution_count": 39,
   "metadata": {},
   "outputs": [
    {
     "name": "stdout",
     "output_type": "stream",
     "text": [
      "ARGUS ARRAY SHAPE:  (60, 124, 164)\n",
      "PRIMA ARRAY SHAPE:  (400, 124, 164)\n"
     ]
    }
   ],
   "source": [
    "import pickle\n",
    "\n",
    "with (open(\"data/ArgusII_percepts.pickle\", \"rb\")) as openfile_argusii:\n",
    "    objects_argusii = pickle.load(openfile_argusii)\n",
    "with (open(\"data/Prima20x20_ScoreboardModel_percepts.pickle\", \"rb\")) as openfile_prima:\n",
    "    objects_prima = pickle.load(openfile_prima)\n",
    "print(\"ARGUS ARRAY SHAPE: \", np.array(objects_argusii).shape)\n",
    "print(\"PRIMA ARRAY SHAPE: \", np.array(objects_prima).shape)"
   ]
  },
  {
   "cell_type": "code",
   "execution_count": 40,
   "metadata": {},
   "outputs": [],
   "source": [
    "from sklearn import decomposition\n",
    "from sklearn import datasets\n",
    "import numpy as np\n",
    "import pandas as pd \n",
    "from sklearn.preprocessing import *\n",
    "\n",
    "def run_pca(dataset):\n",
    "    percepts = normalize(np.array([obj.flatten() for obj in dataset]))\n",
    "    percepts_pca = decomposition.PCA(0.95)\n",
    "    percepts_pca.fit(percepts)\n",
    "    components = percepts_pca.transform(percepts)\n",
    "    projected = percepts_pca.inverse_transform(components)\n",
    "    print( \"pca components shape: \", components.shape)\n",
    "    print( \"original shape: \", projected.shape)"
   ]
  },
  {
   "cell_type": "code",
   "execution_count": 41,
   "metadata": {},
   "outputs": [
    {
     "name": "stdout",
     "output_type": "stream",
     "text": [
      "pca components shape:  (400, 290)\n",
      "original shape:  (400, 20336)\n"
     ]
    }
   ],
   "source": [
    "run_pca(objects_prima)"
   ]
  },
  {
   "cell_type": "code",
   "execution_count": 42,
   "metadata": {},
   "outputs": [
    {
     "name": "stdout",
     "output_type": "stream",
     "text": [
      "pca components shape:  (60, 46)\n",
      "original shape:  (60, 20336)\n"
     ]
    }
   ],
   "source": [
    "run_pca(objects_argusii)"
   ]
  },
  {
   "cell_type": "markdown",
   "metadata": {},
   "source": [
    "## Plot PCA on Graph"
   ]
  },
  {
   "cell_type": "code",
   "execution_count": 1,
   "metadata": {},
   "outputs": [],
   "source": [
    "import pulse2percept as p2p\n",
    "from prima import * \n",
    "%matplotlib inline \n",
    "import matplotlib.pyplot as plt "
   ]
  },
  {
   "cell_type": "code",
   "execution_count": null,
   "metadata": {},
   "outputs": [],
   "source": [
    "plt"
   ]
  }
 ],
 "metadata": {
  "kernelspec": {
   "display_name": "Python 3",
   "language": "python",
   "name": "python3"
  },
  "language_info": {
   "codemirror_mode": {
    "name": "ipython",
    "version": 3
   },
   "file_extension": ".py",
   "mimetype": "text/x-python",
   "name": "python",
   "nbconvert_exporter": "python",
   "pygments_lexer": "ipython3",
   "version": "3.7.3"
  }
 },
 "nbformat": 4,
 "nbformat_minor": 2
}
